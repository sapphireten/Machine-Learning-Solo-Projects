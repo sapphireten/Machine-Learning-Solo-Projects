{
 "cells": [
  {
   "cell_type": "markdown",
   "id": "e04b3c3c",
   "metadata": {},
   "source": [
    "# Predicting No-shows at Medical Appointments"
   ]
  },
  {
   "cell_type": "markdown",
   "id": "fa5b668d",
   "metadata": {},
   "source": [
    "## By : Brandon Ian Miranda\n",
    "* Email: brandoniandigital@gmail.com\n",
    "* GitHub: sapphireten\n",
    "* Date: November 21st, 2021\n",
    "* Thank you. "
   ]
  },
  {
   "cell_type": "markdown",
   "id": "2bf8903b",
   "metadata": {},
   "source": [
    "## Introduction to dataset\n",
    "The dataset used for this notebook comes from the Kaggle Predicting No-shows at Medical Appointments. The data was taken to see if there was any kind of correlation with a patient missing a doctor's appointment based off of their demographic information and individual health issues. "
   ]
  },
  {
   "cell_type": "markdown",
   "id": "217dfcf9",
   "metadata": {},
   "source": [
    "## Random Forest Classifier\n",
    "Below the machine learning algorithm that I'll be using will be a RandomForestClassifer to mainly find the accuracy of the model with the selected features and see how they influence the show or no-show of a patient, and to find which features according to the model, show to be more important."
   ]
  },
  {
   "cell_type": "code",
   "execution_count": 1,
   "id": "e412c2cf",
   "metadata": {},
   "outputs": [],
   "source": [
    "# loading in packages that we'll need\n",
    "import pandas as pd \n",
    "import numpy as np\n",
    "from sklearn.model_selection import train_test_split\n",
    "from sklearn.metrics import accuracy_score\n",
    "from sklearn.ensemble import RandomForestClassifier \n",
    "from sklearn.feature_selection import SelectFromModel"
   ]
  },
  {
   "cell_type": "code",
   "execution_count": 2,
   "id": "40a0dcfb",
   "metadata": {},
   "outputs": [],
   "source": [
    "# loading in kaggle no-show doctor appointment data\n",
    "\n",
    "dataset = pd.read_csv(\"KaggleV2-May-2016.csv\")"
   ]
  },
  {
   "cell_type": "code",
   "execution_count": 3,
   "id": "8304792b",
   "metadata": {},
   "outputs": [
    {
     "data": {
      "text/html": [
       "<div>\n",
       "<style scoped>\n",
       "    .dataframe tbody tr th:only-of-type {\n",
       "        vertical-align: middle;\n",
       "    }\n",
       "\n",
       "    .dataframe tbody tr th {\n",
       "        vertical-align: top;\n",
       "    }\n",
       "\n",
       "    .dataframe thead th {\n",
       "        text-align: right;\n",
       "    }\n",
       "</style>\n",
       "<table border=\"1\" class=\"dataframe\">\n",
       "  <thead>\n",
       "    <tr style=\"text-align: right;\">\n",
       "      <th></th>\n",
       "      <th>PatientId</th>\n",
       "      <th>AppointmentID</th>\n",
       "      <th>Gender</th>\n",
       "      <th>ScheduledDay</th>\n",
       "      <th>AppointmentDay</th>\n",
       "      <th>Age</th>\n",
       "      <th>Neighbourhood</th>\n",
       "      <th>Scholarship</th>\n",
       "      <th>Hipertension</th>\n",
       "      <th>Diabetes</th>\n",
       "      <th>Alcoholism</th>\n",
       "      <th>Handcap</th>\n",
       "      <th>SMS_received</th>\n",
       "      <th>No-show</th>\n",
       "    </tr>\n",
       "  </thead>\n",
       "  <tbody>\n",
       "    <tr>\n",
       "      <th>0</th>\n",
       "      <td>2.987250e+13</td>\n",
       "      <td>5642903</td>\n",
       "      <td>F</td>\n",
       "      <td>2016-04-29T18:38:08Z</td>\n",
       "      <td>2016-04-29T00:00:00Z</td>\n",
       "      <td>62</td>\n",
       "      <td>JARDIM DA PENHA</td>\n",
       "      <td>0</td>\n",
       "      <td>1</td>\n",
       "      <td>0</td>\n",
       "      <td>0</td>\n",
       "      <td>0</td>\n",
       "      <td>0</td>\n",
       "      <td>No</td>\n",
       "    </tr>\n",
       "    <tr>\n",
       "      <th>1</th>\n",
       "      <td>5.589978e+14</td>\n",
       "      <td>5642503</td>\n",
       "      <td>M</td>\n",
       "      <td>2016-04-29T16:08:27Z</td>\n",
       "      <td>2016-04-29T00:00:00Z</td>\n",
       "      <td>56</td>\n",
       "      <td>JARDIM DA PENHA</td>\n",
       "      <td>0</td>\n",
       "      <td>0</td>\n",
       "      <td>0</td>\n",
       "      <td>0</td>\n",
       "      <td>0</td>\n",
       "      <td>0</td>\n",
       "      <td>No</td>\n",
       "    </tr>\n",
       "    <tr>\n",
       "      <th>2</th>\n",
       "      <td>4.262962e+12</td>\n",
       "      <td>5642549</td>\n",
       "      <td>F</td>\n",
       "      <td>2016-04-29T16:19:04Z</td>\n",
       "      <td>2016-04-29T00:00:00Z</td>\n",
       "      <td>62</td>\n",
       "      <td>MATA DA PRAIA</td>\n",
       "      <td>0</td>\n",
       "      <td>0</td>\n",
       "      <td>0</td>\n",
       "      <td>0</td>\n",
       "      <td>0</td>\n",
       "      <td>0</td>\n",
       "      <td>No</td>\n",
       "    </tr>\n",
       "    <tr>\n",
       "      <th>3</th>\n",
       "      <td>8.679512e+11</td>\n",
       "      <td>5642828</td>\n",
       "      <td>F</td>\n",
       "      <td>2016-04-29T17:29:31Z</td>\n",
       "      <td>2016-04-29T00:00:00Z</td>\n",
       "      <td>8</td>\n",
       "      <td>PONTAL DE CAMBURI</td>\n",
       "      <td>0</td>\n",
       "      <td>0</td>\n",
       "      <td>0</td>\n",
       "      <td>0</td>\n",
       "      <td>0</td>\n",
       "      <td>0</td>\n",
       "      <td>No</td>\n",
       "    </tr>\n",
       "    <tr>\n",
       "      <th>4</th>\n",
       "      <td>8.841186e+12</td>\n",
       "      <td>5642494</td>\n",
       "      <td>F</td>\n",
       "      <td>2016-04-29T16:07:23Z</td>\n",
       "      <td>2016-04-29T00:00:00Z</td>\n",
       "      <td>56</td>\n",
       "      <td>JARDIM DA PENHA</td>\n",
       "      <td>0</td>\n",
       "      <td>1</td>\n",
       "      <td>1</td>\n",
       "      <td>0</td>\n",
       "      <td>0</td>\n",
       "      <td>0</td>\n",
       "      <td>No</td>\n",
       "    </tr>\n",
       "  </tbody>\n",
       "</table>\n",
       "</div>"
      ],
      "text/plain": [
       "      PatientId  AppointmentID Gender          ScheduledDay  \\\n",
       "0  2.987250e+13        5642903      F  2016-04-29T18:38:08Z   \n",
       "1  5.589978e+14        5642503      M  2016-04-29T16:08:27Z   \n",
       "2  4.262962e+12        5642549      F  2016-04-29T16:19:04Z   \n",
       "3  8.679512e+11        5642828      F  2016-04-29T17:29:31Z   \n",
       "4  8.841186e+12        5642494      F  2016-04-29T16:07:23Z   \n",
       "\n",
       "         AppointmentDay  Age      Neighbourhood  Scholarship  Hipertension  \\\n",
       "0  2016-04-29T00:00:00Z   62    JARDIM DA PENHA            0             1   \n",
       "1  2016-04-29T00:00:00Z   56    JARDIM DA PENHA            0             0   \n",
       "2  2016-04-29T00:00:00Z   62      MATA DA PRAIA            0             0   \n",
       "3  2016-04-29T00:00:00Z    8  PONTAL DE CAMBURI            0             0   \n",
       "4  2016-04-29T00:00:00Z   56    JARDIM DA PENHA            0             1   \n",
       "\n",
       "   Diabetes  Alcoholism  Handcap  SMS_received No-show  \n",
       "0         0           0        0             0      No  \n",
       "1         0           0        0             0      No  \n",
       "2         0           0        0             0      No  \n",
       "3         0           0        0             0      No  \n",
       "4         1           0        0             0      No  "
      ]
     },
     "execution_count": 3,
     "metadata": {},
     "output_type": "execute_result"
    }
   ],
   "source": [
    "# showing dataset \n",
    "\n",
    "dataset.head()"
   ]
  },
  {
   "cell_type": "code",
   "execution_count": 4,
   "id": "e64a7e10",
   "metadata": {},
   "outputs": [
    {
     "name": "stdout",
     "output_type": "stream",
     "text": [
      "[0 1 0 ... 0 0 0]\n",
      "[27741 27503 27538 ... 21536 21399 21019]\n",
      "[ 0  0  0 ... 25 25 25]\n"
     ]
    }
   ],
   "source": [
    "# splitting the data set\n",
    "# Before choosing the features we have to convert the categorical and string data in our data set into numerical\n",
    "\n",
    "# Gender\n",
    "from sklearn.preprocessing import LabelEncoder\n",
    "le = LabelEncoder()\n",
    "gender_encoded = le.fit_transform(dataset['Gender'])\n",
    "print(gender_encoded)\n",
    "dataset['encoded_gender'] = gender_encoded\n",
    "\n",
    "# Scheduled Day\n",
    "schedule_encoded = le.fit_transform(dataset['ScheduledDay'])\n",
    "print(schedule_encoded)\n",
    "dataset['encoded_ScheduleDay'] = schedule_encoded\n",
    "\n",
    "# Appointment Day\n",
    "appointment_encoded = le.fit_transform(dataset['AppointmentDay'])\n",
    "print(appointment_encoded)\n",
    "dataset['encoded_AppointmentDay'] = appointment_encoded\n",
    "\n",
    "\n",
    "# Only choosing some features that can be considered highly influential for the split\n",
    "X = dataset[['encoded_gender','encoded_ScheduleDay','encoded_AppointmentDay','Age','Hipertension','Diabetes','SMS_received']]\n",
    "y = dataset[['No-show']]\n",
    "\n",
    "X_train, X_test, y_train, y_test = train_test_split(X, y, test_size=0.3)"
   ]
  },
  {
   "cell_type": "code",
   "execution_count": 5,
   "id": "66c4ab4c",
   "metadata": {},
   "outputs": [],
   "source": [
    "# setting up RandomForest Model \n",
    "# Creating a Gaussian CLassifier\n",
    "snow = RandomForestClassifier(n_estimators=100)\n",
    "\n",
    "# Now I begin to train the model using the training sets from the split. \n",
    "snow.fit(X_train,y_train.values.ravel())\n",
    "\n",
    "pred_y = snow.predict(X_test)"
   ]
  },
  {
   "cell_type": "code",
   "execution_count": 6,
   "id": "0b0604d1",
   "metadata": {},
   "outputs": [
    {
     "name": "stdout",
     "output_type": "stream",
     "text": [
      "Accuracy of the model is  0.775475738110317\n"
     ]
    }
   ],
   "source": [
    "# Time to show the accuracy \n",
    "from sklearn import metrics\n",
    "print(\"Accuracy of the model is \",metrics.accuracy_score(y_test,pred_y))"
   ]
  },
  {
   "cell_type": "code",
   "execution_count": 15,
   "id": "0078103a",
   "metadata": {},
   "outputs": [
    {
     "data": {
      "image/png": "[encoded data removed]",
      "text/plain": [
       "<Figure size 432x288 with 1 Axes>"
      ]
     },
     "metadata": {
      "needs_background": "light"
     },
     "output_type": "display_data"
    }
   ],
   "source": [
    "# Now for some visualizations. First feature importance using matplotlib\n",
    "# based on MDI Mean Decrease Impurity \n",
    "import time\n",
    "import matplotlib.pyplot as plt\n",
    "start_time = time.time()\n",
    "importances = snow.feature_importances_\n",
    "std = np.std([tree.feature_importances_ for tree in snow.estimators_], axis=0)\n",
    "elapsed_time = time.time() - start_time\n",
    "\n",
    "feature_names = [f\"feature{i}\" for i in range(X.shape[1])]\n",
    "\n",
    "\n",
    "snow_importances = pd.Series(importances, index = feature_names)\n",
    "\n",
    "fig, ax = plt.subplots()\n",
    "snow_importances.plot.bar(yerr=std, ax=ax)\n",
    "ax.set_title(\"Feature importances using MDI\")\n",
    "ax.set_ylabel(\"Mean decrease in impurity\")\n",
    "ax.set_xticklabels(('Gender','Scheduled Day','Appointment Day', 'Age', 'Hipertension', 'Diabetes','SMS Received'))\n",
    "\n",
    "fig.tight_layout()"
   ]
  },
  {
   "cell_type": "code",
   "execution_count": 11,
   "id": "b830447c",
   "metadata": {},
   "outputs": [
    {
     "name": "stdout",
     "output_type": "stream",
     "text": [
      "Elapsed Time to compute the importances: 8718.533 seconds\n"
     ]
    }
   ],
   "source": [
    "# feature importance based on feature permutation\n",
    "\n",
    "from sklearn.inspection import permutation_importance \n",
    "\n",
    "result = permutation_importance(\n",
    "    snow, X_test, y_test, n_repeats = 10, random_state= 42, n_jobs=2\n",
    ")\n",
    "elapsed_time = time.time() - start_time\n",
    "print(f\"Elapsed Time to compute the importances: {elapsed_time:.3f} seconds\")\n",
    "\n",
    "snow_importances = pd.Series(result.importances_mean, index = feature_names)"
   ]
  },
  {
   "cell_type": "code",
   "execution_count": 14,
   "id": "e0dd2039",
   "metadata": {},
   "outputs": [
    {
     "data": {
      "image/png": "[encoded data removed]",
      "text/plain": [
       "<Figure size 432x288 with 1 Axes>"
      ]
     },
     "metadata": {
      "needs_background": "light"
     },
     "output_type": "display_data"
    }
   ],
   "source": [
    "# Visualization\n",
    "\n",
    "fig, ax = plt.subplots()\n",
    "snow_importances.plot.bar(yerr=result.importances_std, ax=ax)\n",
    "ax.set_title(\"Feature importances using permutation on full model\")\n",
    "ax.set_ylabel(\"Mean accuracy decrease\")\n",
    "#ax.set_xticks(a)\n",
    "ax.set_xticklabels(('Gender','Scheduled Day','Appointment Day', 'Age', 'Hipertension', 'Diabetes','SMS Received'))\n",
    "fig.tight_layout()\n",
    "plt.show()"
   ]
  },
  {
   "cell_type": "markdown",
   "id": "f1f12fc7",
   "metadata": {},
   "source": [
    "## Conclusion\n",
    "In the end the model turned out to be about 77% to 78% accurate with the selected features. This of course could of been improved if there were less features selected but for the sake of using the features that made the most sense, the feature count was kept the same. Also hypertuning the parameters could have also helped the cause but for the sake of a simple model which in this case I mainly chose to focus on the visualizations, this method was also not taken into account. In conclusion, based off of the two visuals, one using MDI and the other permutation, the results were similar. Using MDI, \"Scheduled Day\" and \"Age\" were proven to be the most important features with \"Appointment Day\" coming in close. Using the permutation method, \"Scheduled Day and \"Appointment Day\" came in as the most important features with \"Age\" being third. In both methods, \"Scheduled Day\" was the most important feature with the 2nd and 3rd most important features being swapped in the two. It is worth mentioning that permutation method gave a more substantial result as a 4th feature worth noting \"SMS-Recevied\" was shown as \"semi-important\".  "
   ]
  },
  {
   "cell_type": "code",
   "execution_count": null,
   "id": "e3f9d791",
   "metadata": {},
   "outputs": [],
   "source": []
  }
 ],
 "metadata": {
  "kernelspec": {
   "display_name": "Python 3 (ipykernel)",
   "language": "python",
   "name": "python3"
  },
  "language_info": {
   "codemirror_mode": {
    "name": "ipython",
    "version": 3
   },
   "file_extension": ".py",
   "mimetype": "text/x-python",
   "name": "python",
   "nbconvert_exporter": "python",
   "pygments_lexer": "ipython3",
   "version": "3.8.8"
  }
 },
 "nbformat": 4,
 "nbformat_minor": 5
}
